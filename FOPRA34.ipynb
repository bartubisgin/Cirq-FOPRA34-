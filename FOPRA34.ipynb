{
 "cells": [
  {
   "cell_type": "code",
   "execution_count": 2,
   "metadata": {},
   "outputs": [],
   "source": [
    "import cirq\n",
    "\n",
    "import numpy as np\n",
    "import matplotlib.pyplot as plt\n",
    "import random"
   ]
  },
  {
   "cell_type": "code",
   "execution_count": 409,
   "metadata": {},
   "outputs": [
    {
     "name": "stdout",
     "output_type": "stream",
     "text": [
      "q_0: ───H───@───\n",
      "            │\n",
      "q_1: ───────X───\n"
     ]
    }
   ],
   "source": [
    "# Exercise 2: Generate & Measure EPR Pairs\n",
    "\n",
    "q_0 = cirq.NamedQubit('q_0')\n",
    "q_1 = cirq.NamedQubit('q_1')\n",
    "qc = cirq.Circuit()\n",
    "qc.append([cirq.H(q_0), cirq.CNOT(q_0, q_1)])\n",
    "\n",
    "print(qc)"
   ]
  },
  {
   "cell_type": "code",
   "execution_count": 410,
   "metadata": {},
   "outputs": [
    {
     "name": "stdout",
     "output_type": "stream",
     "text": [
      "[ 0.707+0.j  0.   +0.j -0.   +0.j  0.707+0.j]\n"
     ]
    }
   ],
   "source": [
    "sv = qc.final_state_vector()\n",
    "print(np.around(sv, 3))"
   ]
  },
  {
   "cell_type": "code",
   "execution_count": 411,
   "metadata": {},
   "outputs": [],
   "source": [
    "### Generalizing as a fn.\n",
    "def bell_generator(index):\n",
    "\n",
    "    q_0 = cirq.NamedQubit('q_0')\n",
    "    q_1 = cirq.NamedQubit('q_1')\n",
    "    qc = cirq.Circuit()\n",
    "\n",
    "    qc.append([cirq.H(q_0), cirq.CNOT(q_0, q_1)])\n",
    "\n",
    "    if index == 1:\n",
    "        #create bell_1\n",
    "        pass\n",
    "    elif index == 2:\n",
    "        qc.insert(0, [cirq.X(q_0)])\n",
    "    elif index == 3:\n",
    "        qc.insert(0, [cirq.X(q_1)])\n",
    "    elif index == 4:\n",
    "        qc.insert(0, [cirq.X(q_0), cirq.X(q_1)])\n",
    "\n",
    "    return qc\n"
   ]
  },
  {
   "cell_type": "code",
   "execution_count": 412,
   "metadata": {},
   "outputs": [
    {
     "name": "stdout",
     "output_type": "stream",
     "text": [
      "Bell circuit no: 1\n",
      "q_0: ───H───@───\n",
      "            │\n",
      "q_1: ───────X───\n",
      "Bell circuit no: 2\n",
      "q_0: ───X───H───@───\n",
      "                │\n",
      "q_1: ───────────X───\n",
      "Bell circuit no: 3\n",
      "q_0: ───H───@───\n",
      "            │\n",
      "q_1: ───X───X───\n",
      "Bell circuit no: 4\n",
      "q_0: ───X───H───@───\n",
      "                │\n",
      "q_1: ───X───────X───\n"
     ]
    }
   ],
   "source": [
    "# index: {1,2,3,4} corresponds to\n",
    "# bell state: {phi+, phi-, psi+, psi-} respectively\n",
    "\n",
    "for i in range(1,5):\n",
    "    bell_i = bell_generator(i)\n",
    "    print('Bell circuit no:', i)\n",
    "    print(bell_i)\n"
   ]
  },
  {
   "cell_type": "code",
   "execution_count": 413,
   "metadata": {},
   "outputs": [],
   "source": [
    "# And how to measure an unknown Bell state?\n",
    "# We need a bell measurement\n",
    "\n",
    "def bell_meas(qc):\n",
    "    qc.append([cirq.CNOT(q_0, q_1), cirq.H(q_0), cirq.measure(q_0, q_1)])\n",
    "    "
   ]
  },
  {
   "cell_type": "code",
   "execution_count": 414,
   "metadata": {},
   "outputs": [
    {
     "name": "stdout",
     "output_type": "stream",
     "text": [
      "q_0: ───H───@───\n",
      "            │\n",
      "q_1: ───────X───\n"
     ]
    }
   ],
   "source": [
    "print(qc)"
   ]
  },
  {
   "cell_type": "code",
   "execution_count": 415,
   "metadata": {},
   "outputs": [
    {
     "name": "stdout",
     "output_type": "stream",
     "text": [
      "q_0: ───H───@───@───H───M───\n",
      "            │   │       │\n",
      "q_1: ───────X───X───────M───\n"
     ]
    }
   ],
   "source": [
    "q_0 = cirq.NamedQubit('q_0')\n",
    "q_1 = cirq.NamedQubit('q_1')\n",
    "\n",
    "qc = bell_generator(1)\n",
    "\n",
    "bell_meas(qc)\n",
    "print(qc)\n"
   ]
  },
  {
   "cell_type": "code",
   "execution_count": 416,
   "metadata": {},
   "outputs": [
    {
     "data": {
      "text/plain": [
       "array([ 1.+0.j,  0.+0.j, -0.+0.j,  0.+0.j])"
      ]
     },
     "execution_count": 416,
     "metadata": {},
     "output_type": "execute_result"
    }
   ],
   "source": [
    "qc.final_state_vector()"
   ]
  },
  {
   "cell_type": "code",
   "execution_count": 417,
   "metadata": {},
   "outputs": [
    {
     "name": "stdout",
     "output_type": "stream",
     "text": [
      "the final statevector for bell state 1 is:\n",
      "[ 1.+0.j  0.+0.j -0.+0.j  0.+0.j]\n",
      "the final statevector for bell state 2 is:\n",
      "[0.+0.j 0.+0.j 1.+0.j 0.+0.j]\n",
      "the final statevector for bell state 3 is:\n",
      "[ 0.+0.j  1.+0.j  0.+0.j -0.+0.j]\n",
      "the final statevector for bell state 4 is:\n",
      "[0.+0.j 0.+0.j 0.+0.j 1.+0.j]\n"
     ]
    }
   ],
   "source": [
    "for i in range(1,5):\n",
    "    qc = bell_generator(i)\n",
    "    bell_meas(qc)\n",
    "\n",
    "    sv = qc.final_state_vector()\n",
    "    print('the final statevector for bell state', i, 'is:')\n",
    "    print(sv)\n",
    "\n",
    "# phi+ gives 00\n",
    "# phi- gives 10\n",
    "# psi+ gives 01\n",
    "# psi- gives 11"
   ]
  },
  {
   "cell_type": "code",
   "execution_count": 418,
   "metadata": {},
   "outputs": [],
   "source": [
    "# Exercise 4: Simulate the Quantum Teleport\n",
    "\n",
    "def make_quantum_teleportation_circuit(gate):\n",
    "    circuit = cirq.Circuit()\n",
    "\n",
    "    # Get the three qubits involved in the teleportation protocol.\n",
    "    msg = cirq.NamedQubit(\"Message\")\n",
    "    alice = cirq.NamedQubit(\"Alice\")\n",
    "    bob = cirq.NamedQubit(\"Bob\")\n",
    "\n",
    "    # to create the initial random state for Alice\n",
    "    circuit.append(gate(msg))\n",
    "\n",
    "    # Bell state\n",
    "    circuit.append([cirq.H(alice), cirq.CNOT(alice, bob)])\n",
    "\n",
    "    # Bell measurement\n",
    "    circuit.append([cirq.CNOT(msg, alice), cirq.H(msg), cirq.measure(msg, alice)])\n",
    "\n",
    "    # Uses the two classical bits from the Bell measurement to recover the\n",
    "    # original quantum message on Bob's entangled qubit\n",
    "    circuit.append([cirq.CNOT(alice, bob), cirq.CZ(msg, bob)])\n",
    "\n",
    "    return circuit"
   ]
  },
  {
   "cell_type": "code",
   "execution_count": 419,
   "metadata": {},
   "outputs": [
    {
     "name": "stdout",
     "output_type": "stream",
     "text": [
      "Teleportation circuit:\n",
      "\n",
      "Alice: ─────H────────@───X───────M───@───────\n",
      "                     │   │       │   │\n",
      "Bob: ────────────────X───┼───────┼───X───@───\n",
      "                         │       │       │\n",
      "Message: ───X^0.25───────@───H───M───────@───\n"
     ]
    }
   ],
   "source": [
    "\"\"\"Visualize the teleportation circuit.\"\"\"\n",
    "# Gate to put the message qubit in some state to send.\n",
    "gate = cirq.X ** 0.25\n",
    "\n",
    "# Create the teleportation circuit.\n",
    "circuit = make_quantum_teleportation_circuit(gate)\n",
    "print(\"Teleportation circuit:\\n\")\n",
    "print(circuit)"
   ]
  },
  {
   "cell_type": "code",
   "execution_count": 420,
   "metadata": {},
   "outputs": [
    {
     "name": "stdout",
     "output_type": "stream",
     "text": [
      "Bloch vector of message qubit:\n",
      "[ 0.    -0.707  0.707]\n"
     ]
    }
   ],
   "source": [
    "\"\"\"Display the Bloch vector of the message qubit.\"\"\"\n",
    "message = cirq.Circuit(gate.on(cirq.NamedQubit(\"Message\"))).final_state_vector()\n",
    "message_bloch_vector = cirq.bloch_vector_from_state_vector(message, index=0)\n",
    "print(\"Bloch vector of message qubit:\")\n",
    "print(np.round(message_bloch_vector, 3))"
   ]
  },
  {
   "cell_type": "code",
   "execution_count": 421,
   "metadata": {},
   "outputs": [
    {
     "name": "stdout",
     "output_type": "stream",
     "text": [
      "Bloch vector of Bob's qubit:\n",
      "[ 0.    -0.707  0.707]\n"
     ]
    }
   ],
   "source": [
    "\"\"\"Simulate the teleportation circuit and get the final state of Bob's qubit.\"\"\"\n",
    "# Get a simulator.\n",
    "sim = cirq.Simulator()\n",
    "\n",
    "# Simulate the teleportation circuit.\n",
    "result = sim.simulate(circuit)\n",
    "\n",
    "# Get the Bloch vector of Bob's qubit.\n",
    "bobs_bloch_vector = cirq.bloch_vector_from_state_vector(result.final_state_vector, index=1)\n",
    "print(\"Bloch vector of Bob's qubit:\")\n",
    "print(np.round(bobs_bloch_vector, 3))\n",
    "\n",
    "# Verify they are the same state!\n",
    "np.testing.assert_allclose(bobs_bloch_vector, message_bloch_vector, atol=1e-7)"
   ]
  },
  {
   "cell_type": "code",
   "execution_count": 19,
   "metadata": {},
   "outputs": [
    {
     "name": "stdout",
     "output_type": "stream",
     "text": [
      "q_0: ───Rx(π)───\n"
     ]
    }
   ],
   "source": [
    "RX = cirq.rx(np.pi)\n",
    "\n",
    "qc = cirq.Circuit([cirq.rx(np.pi).on(q_0)])\n",
    "print(qc)"
   ]
  },
  {
   "cell_type": "code",
   "execution_count": 38,
   "metadata": {},
   "outputs": [],
   "source": [
    "# Exercise 6: Rabi Oscillations\n",
    "# Define the Trotterization\n",
    "\n",
    "def U_t(q, w0, w1, w, dt, trotter_steps):\n",
    "\n",
    "    for n in range(trotter_steps):\n",
    "        yield cirq.rx(2*w1*dt*np.cos(w*n*dt)).on(q)\n",
    "        yield cirq.rz(-w0*dt).on(q)\n",
    "\n",
    "    #yield cirq.H(q)\n",
    "    yield cirq.measure(q, key='out')\n",
    "\n"
   ]
  },
  {
   "cell_type": "code",
   "execution_count": 41,
   "metadata": {},
   "outputs": [
    {
     "data": {
      "text/plain": [
       "(0.0, 1000.0)"
      ]
     },
     "execution_count": 41,
     "metadata": {},
     "output_type": "execute_result"
    },
    {
     "data": {
      "image/png": "[encoded data removed]",
      "text/plain": [
       "<Figure size 432x288 with 1 Axes>"
      ]
     },
     "metadata": {
      "needs_background": "light"
     },
     "output_type": "display_data"
    }
   ],
   "source": [
    "# a) use the following parameters with run method\n",
    "\n",
    "w1 = 2\n",
    "w0 = 25\n",
    "w = 25.5\n",
    "dt = 0.05\n",
    "time = np.linspace(0, 4, 80)\n",
    "# alternatively, trotter_steps = np.arange(0, int(4/dt), 1)\n",
    "\n",
    "q_0 = cirq.NamedQubit('q_0')\n",
    "\n",
    "prob_1 = []\n",
    "\n",
    "for t in time:\n",
    "    trotter = cirq.Circuit(U_t(q_0, w0, w1, w, dt, trotter_steps = int(t/dt)))\n",
    "    sim = cirq.Simulator()\n",
    "    result = sim.run(trotter, repetitions=1000)\n",
    "    prob_1.append(np.mean(result.histogram(key='out')[1]))\n",
    "\n",
    "plt.plot(time, prob_1)\n",
    "plt.xlabel('$t$')\n",
    "plt.ylabel('$P_1$ ~ Shots')\n",
    "plt.ylim((0,1000))\n",
    "\n"
   ]
  },
  {
   "cell_type": "code",
   "execution_count": 527,
   "metadata": {},
   "outputs": [
    {
     "data": {
      "text/plain": [
       "(0.0, 1.0)"
      ]
     },
     "execution_count": 527,
     "metadata": {},
     "output_type": "execute_result"
    },
    {
     "data": {
      "image/png": "[encoded data removed]",
      "text/plain": [
       "<Figure size 432x288 with 1 Axes>"
      ]
     },
     "metadata": {
      "needs_background": "light"
     },
     "output_type": "display_data"
    }
   ],
   "source": [
    "w1 = 2\n",
    "w0 = 25\n",
    "w = 25.5\n",
    "dt = 0.05\n",
    "t_max = 8\n",
    "time = np.linspace(0, t_max, int(t_max/dt))\n",
    "# alternatively, trotter_steps = np.arange(0, int(4/dt), 1)\n",
    "\n",
    "q_0 = cirq.NamedQubit('q_0')\n",
    "\n",
    "prob_1 = []\n",
    "\n",
    "for t in time:\n",
    "    qc = cirq.Circuit(U_t(q_0, w0, w1, w, dt, trotter_steps = int(t/dt)))\n",
    "    sim = cirq.Simulator()\n",
    "    result = cirq.sample(qc, repetitions=1000)\n",
    "    prob = result.histogram(key='out')\n",
    "    prob_1.append(prob[1]/1000)\n",
    "\n",
    "plt.plot(time, prob_1)\n",
    "plt.xlabel('$t$')\n",
    "plt.ylabel('$P_1$ ~ Shots')\n",
    "plt.ylim((0,1))"
   ]
  },
  {
   "cell_type": "code",
   "execution_count": 524,
   "metadata": {},
   "outputs": [
    {
     "data": {
      "text/plain": [
       "(0.0, 1.0)"
      ]
     },
     "execution_count": 524,
     "metadata": {},
     "output_type": "execute_result"
    },
    {
     "data": {
      "image/png": "[encoded data removed]",
      "text/plain": [
       "<Figure size 432x288 with 1 Axes>"
      ]
     },
     "metadata": {
      "needs_background": "light"
     },
     "output_type": "display_data"
    }
   ],
   "source": [
    "# Another alternative is to directly get the final statevector from qc\n",
    "\n",
    "w1 = 2\n",
    "w0 = 25\n",
    "w = 25.5\n",
    "dt = 0.05\n",
    "t_max = 8\n",
    "time = np.linspace(0, t_max, int(t_max/dt))\n",
    "# alternatively, trotter_steps = np.arange(0, int(4/dt), 1)\n",
    "\n",
    "q_0 = cirq.NamedQubit('q_0')\n",
    "\n",
    "prob_1 = []\n",
    "\n",
    "for t in time:\n",
    "    qc = cirq.Circuit(U_t(q_0, w0, w1, w, dt, trotter_steps = int(t/dt)))\n",
    "    sv = qc.final_state_vector()\n",
    "    prob = np.abs(sv[1])**2\n",
    "    prob_1.append(prob)\n",
    "\n",
    "plt.plot(time, prob_1)\n",
    "plt.xlabel('$t$')\n",
    "plt.ylabel('$P_1$ ~ Shots')\n",
    "plt.ylim((0,1))"
   ]
  },
  {
   "cell_type": "code",
   "execution_count": 530,
   "metadata": {},
   "outputs": [
    {
     "data": {
      "text/plain": [
       "(0.0, 1.0)"
      ]
     },
     "execution_count": 530,
     "metadata": {},
     "output_type": "execute_result"
    },
    {
     "data": {
      "image/png": "[encoded data removed]",
      "text/plain": [
       "<Figure size 432x288 with 1 Axes>"
      ]
     },
     "metadata": {
      "needs_background": "light"
     },
     "output_type": "display_data"
    }
   ],
   "source": [
    "# b) with different detunings, fixed time\n",
    "\n",
    "w1 = 2\n",
    "w0 = 25\n",
    "w_ext = np.linspace(10, 40, 100)\n",
    "dt = 0.05\n",
    "t = np.pi / w1\n",
    "# alternatively, trotter_steps = np.arange(0, int(4/dt), 1)\n",
    "\n",
    "q_0 = cirq.NamedQubit('q_0')\n",
    "\n",
    "prob_1 = []\n",
    "\n",
    "for w in w_ext:\n",
    "    qc = cirq.Circuit(U_t(q_0, w0, w1, w, dt, trotter_steps = int(t/dt)))\n",
    "    sim = cirq.Simulator()\n",
    "    result = sim.run(qc, repetitions=1000)\n",
    "    prob_1.append(result.histogram(key='out')[1]/1000)\n",
    "\n",
    "plt.plot(w_ext, prob_1)\n",
    "plt.xlabel('$w_1$')\n",
    "plt.ylabel('$P_1$ ~ Shots')\n",
    "plt.ylim((0,1))"
   ]
  },
  {
   "cell_type": "code",
   "execution_count": 538,
   "metadata": {},
   "outputs": [
    {
     "data": {
      "text/plain": [
       "(0.0, 1.0)"
      ]
     },
     "execution_count": 538,
     "metadata": {},
     "output_type": "execute_result"
    },
    {
     "data": {
      "image/png": "[encoded data removed]",
      "text/plain": [
       "<Figure size 432x288 with 1 Axes>"
      ]
     },
     "metadata": {
      "needs_background": "light"
     },
     "output_type": "display_data"
    }
   ],
   "source": [
    "# c)\n",
    "\n",
    "w1 = 2\n",
    "w0 = 2\n",
    "w = 2\n",
    "dt = 0.05\n",
    "t_max = np.pi\n",
    "time = np.linspace(0, t_max, int(t_max/dt))\n",
    "# alternatively, trotter_steps = np.arange(0, int(4/dt), 1)\n",
    "\n",
    "q_0 = cirq.NamedQubit('q_0')\n",
    "\n",
    "prob_1 = []\n",
    "\n",
    "for t in time:\n",
    "    qc = cirq.Circuit(U_t(q_0, w0, w1, w, dt, trotter_steps = int(t/dt)))\n",
    "    qc.append(cirq.measure(q_0, key='z'))\n",
    "    \n",
    "    sim = cirq.Simulator()\n",
    "    result = sim.run(qc, repetitions=1000)\n",
    "    prob_1.append(np.mean(result.measurements['z']))\n",
    "\n",
    "plt.plot(time, prob_1)\n",
    "plt.xlabel('Time')\n",
    "plt.ylabel('Prob[1] ~ Shots')\n",
    "plt.ylim((0,1))"
   ]
  },
  {
   "cell_type": "code",
   "execution_count": 79,
   "metadata": {},
   "outputs": [
    {
     "data": {
      "text/plain": [
       "Text(0.5, 0.98, 'Noisy Simulation')"
      ]
     },
     "execution_count": 79,
     "metadata": {},
     "output_type": "execute_result"
    },
    {
     "data": {
      "image/png": "[encoded data removed]",
      "text/plain": [
       "<Figure size 432x288 with 1 Axes>"
      ]
     },
     "metadata": {
      "needs_background": "light"
     },
     "output_type": "display_data"
    }
   ],
   "source": [
    "# Exercise 7: Noise & Damped Rabi Oscillations\n",
    "p = 0.9\n",
    "gamma =0.005\n",
    "noise = cirq.ConstantQubitNoiseModel(\n",
    "            cirq.GeneralizedAmplitudeDampingChannel(p,gamma))\n",
    "\n",
    "w1 = 2\n",
    "w0 = 25\n",
    "w = 25.5\n",
    "dt = 0.05\n",
    "t_max = 8\n",
    "time = np.linspace(0, t_max, int(t_max/dt))\n",
    "# alternatively, trotter_steps = np.arange(0, int(4/dt), 1)\n",
    "\n",
    "q_0 = cirq.NamedQubit('q_0')\n",
    "\n",
    "prob_1 = []\n",
    "\n",
    "for t in time:\n",
    "    trotter = cirq.Circuit(U_t(q_0, w0, w1, w, dt, trotter_steps = int(t/dt)))\n",
    "    result = cirq.sample(trotter, noise=noise, repetitions=1024)\n",
    "    prob = result.histogram(key='out')\n",
    "    prob_1.append(prob[1]/1000)\n",
    "\n",
    "plt.plot(time, prob_1)\n",
    "plt.xlabel('Time')\n",
    "plt.ylabel('$P_1$ ~ Shots')\n",
    "plt.ylim((0,1))\n",
    "plt.suptitle('Noisy Simulation')\n"
   ]
  },
  {
   "cell_type": "code",
   "execution_count": 462,
   "metadata": {},
   "outputs": [
    {
     "name": "stdout",
     "output_type": "stream",
     "text": [
      "q_0: ───S_dag───\n"
     ]
    }
   ],
   "source": [
    "# Exercise 8: Single-qubit \n",
    "\n",
    "# define S_dagger gate which stupidly doesn't exist in Cirq???\n",
    "class S_dag_Gate(cirq.Gate):\n",
    "    def __init__(self):\n",
    "        super(S_dag_Gate, self)\n",
    "\n",
    "    def _num_qubits_(self):\n",
    "        return 1\n",
    "\n",
    "    def _unitary_(self):\n",
    "        return np.array([[1,0],[0, -1j]])\n",
    "\n",
    "    def _circuit_diagram_info_(self, args):\n",
    "        return \"S_dag\"\n",
    "    \n",
    "S_dag = S_dag_Gate()\n",
    "\n",
    "s_dag_cirq = cirq.Circuit(S_dag(q_0))\n",
    "print(s_dag_cirq)"
   ]
  },
  {
   "cell_type": "code",
   "execution_count": 429,
   "metadata": {},
   "outputs": [],
   "source": [
    "def single_qubit_tomography(sampler, qubit, circuit, repetitions):\n",
    "    qc_z = cirq.Circuit(circuit, cirq.ops.measure(qubit, key='z'))\n",
    "    results = sampler.run(qc_z, repetitions=repetitions)\n",
    "    rho_11 = np.mean(results.measurements['z'])\n",
    "    rho_00 = 1.0 - rho_11\n",
    "\n",
    "    qc_x = cirq.Circuit(circuit, cirq.ops.H(qubit), cirq.ops.measure(qubit, key='z'))\n",
    "    results = sampler.run(qc_x, repetitions=repetitions)\n",
    "    rho_01_im = np.mean(results.measurements['z'])\n",
    "\n",
    "    qc_y = cirq.Circuit(circuit, S_dag(qubit), cirq.H(qubit), cirq.ops.measure(qubit, key='z'))\n",
    "    results = sampler.run(qc_y, repetitions=repetitions)\n",
    "    rho_01_re = np.mean(results.measurements['z'])\n",
    "\n",
    "    rho_01 = rho_01_re + rho_01_im*1j\n",
    "    rho_10 = np.conj(rho_01)\n",
    "\n",
    "    rho = np.array([[rho_00, rho_01],\n",
    "                    [rho_10, rho_11]])\n",
    "\n",
    "    return rho"
   ]
  },
  {
   "cell_type": "code",
   "execution_count": 430,
   "metadata": {},
   "outputs": [
    {
     "name": "stdout",
     "output_type": "stream",
     "text": [
      "qubit: ───H───\n"
     ]
    },
    {
     "data": {
      "text/plain": [
       "array([[0.5001+0.j, 0.5001+0.j],\n",
       "       [0.5001-0.j, 0.4999+0.j]])"
      ]
     },
     "execution_count": 430,
     "metadata": {},
     "output_type": "execute_result"
    }
   ],
   "source": [
    "sampler = cirq.Simulator()\n",
    "qubit = cirq.NamedQubit('qubit')\n",
    "qc = cirq.Circuit([cirq.H(qubit)])\n",
    "repetitions = 10000\n",
    "\n",
    "print(qc)\n",
    "single_qubit_tomography(sampler, qubit, qc, repetitions)"
   ]
  },
  {
   "cell_type": "code",
   "execution_count": 431,
   "metadata": {},
   "outputs": [
    {
     "data": {
      "text/plain": [
       "array([[0.5038+0.j    , 0.5   -0.0051j],\n",
       "       [0.5   +0.0051j, 0.4962+0.j    ]])"
      ]
     },
     "execution_count": 431,
     "metadata": {},
     "output_type": "execute_result"
    }
   ],
   "source": [
    "result = cirq.experiments.single_qubit_state_tomography(sampler, qubit, qc, repetitions)\n",
    "result.data"
   ]
  },
  {
   "cell_type": "code",
   "execution_count": 432,
   "metadata": {},
   "outputs": [
    {
     "name": "stdout",
     "output_type": "stream",
     "text": [
      "qubit: ───H───Rz(0.5π)───\n",
      "(0.5-0.5j)|0⟩ + (0.5+0.5j)|1⟩\n"
     ]
    }
   ],
   "source": [
    "# Exercise 9: Given state\n",
    "\n",
    "qc_ex_9 = cirq.Circuit(qc, cirq.rz(np.pi/2).on(qubit))\n",
    "print(qc_ex_9)\n",
    "sv = qc_ex_9.final_state_vector()\n",
    "print(cirq.qis.dirac_notation(sv))\n",
    "\n",
    "#single_qubit_tomography(sampler, qubit, qc, repetitions)"
   ]
  },
  {
   "cell_type": "code",
   "execution_count": 446,
   "metadata": {},
   "outputs": [
    {
     "data": {
      "text/plain": [
       "(0.0, 1.0)"
      ]
     },
     "execution_count": 446,
     "metadata": {},
     "output_type": "execute_result"
    },
    {
     "data": {
      "image/png": "[encoded data removed]",
      "text/plain": [
       "<Figure size 432x288 with 1 Axes>"
      ]
     },
     "metadata": {
      "needs_background": "light"
     },
     "output_type": "display_data"
    }
   ],
   "source": [
    "# Exercise 10: Reconstruct Ex.6 with Tomography\n",
    "\n",
    "w1 = 2\n",
    "w0 = 25\n",
    "w = 25.5\n",
    "dt = 0.05\n",
    "t_max = 2\n",
    "time = np.linspace(0, t_max, int(t_max/dt))\n",
    "# alternatively, trotter_steps = np.arange(0, int(4/dt), 1)\n",
    "\n",
    "q_0 = cirq.NamedQubit('q_0')\n",
    "\n",
    "prob_1 = []\n",
    "sampler = cirq.Simulator()\n",
    "\n",
    "for t in time:\n",
    "    trotter = cirq.Circuit(cirq.X(q_0), U_t(q_0, w0, w1, w, dt, trotter_steps = int(t/dt)))\n",
    "    rho = single_qubit_tomography(sampler, q_0, trotter, repetitions=100)\n",
    "    prob = np.abs(rho[1,1])**2\n",
    "    prob_1.append(prob)\n",
    "\n",
    "plt.plot(time, prob_1)\n",
    "plt.xlabel('$t$')\n",
    "plt.ylabel('$P_1$ ~ Shots')\n",
    "plt.ylim((0,1))\n"
   ]
  },
  {
   "cell_type": "code",
   "execution_count": 506,
   "metadata": {},
   "outputs": [],
   "source": [
    "# Exercise 11: VQE\n",
    "# Ansatz -- Z1 and Z2 commutes, so does Z1 ^ X2 and X1 ^ Z2\n",
    "# then we can take the sums as simple products\n",
    "# Let's first define the RZZ gate\n",
    "\n",
    "class RZZ_Gate(cirq.Gate):\n",
    "    def __init__(self, theta):\n",
    "        super(RZZ_Gate, self)\n",
    "        self.theta = theta\n",
    "\n",
    "    def _num_qubits_(self):\n",
    "        return 2\n",
    "\n",
    "    def _unitary_(self):\n",
    "        return np.array([[np.exp(-1j*self.theta/2),np.exp(1j*self.theta/2)],\n",
    "                        [np.exp(1j*self.theta/2), np.exp(-1j*self.theta/2)]])\n",
    "\n",
    "    def _circuit_diagram_info_(self, args):\n",
    "        return [f\"R_ZZ({np.around(self.theta,5)})\"] * 2\n",
    "\n",
    "qc = cirq.Circuit(RZZ_Gate(theta=np.pi).on(q_0, q_1))\n"
   ]
  },
  {
   "cell_type": "code",
   "execution_count": 507,
   "metadata": {},
   "outputs": [
    {
     "name": "stdout",
     "output_type": "stream",
     "text": [
      "q_0: ───R_ZZ(3.14159)───\n",
      "        │\n",
      "q_1: ───R_ZZ(3.14159)───\n"
     ]
    }
   ],
   "source": [
    "print(qc)"
   ]
  },
  {
   "cell_type": "code",
   "execution_count": 508,
   "metadata": {},
   "outputs": [],
   "source": [
    "# We could also make RZZ from 2 CNOTs and 1 RZ\n",
    "\n",
    "ansatz = cirq.Circuit()"
   ]
  },
  {
   "cell_type": "code",
   "execution_count": 568,
   "metadata": {},
   "outputs": [],
   "source": [
    "# BUGGED AND WON'T RUN WITH THIS FOR SOME REASON\n",
    "#def ansatz_circuit(a, b):\n",
    "#    #implements Z1 X2\n",
    "#    yield cirq.ry(np.pi/2).on(q_1)\n",
    "#    yield RZZ_Gate(2*b).on(q_0, q_1)\n",
    "#    yield cirq.ry(-np.pi/2).on(q_0)\n",
    "#\n",
    "#    #implements X1 Z2\n",
    "#    yield cirq.ry(np.pi/2).on(q_0)\n",
    "#    yield RZZ_Gate(2*b).on(q_0, q_1)\n",
    "#    yield cirq.ry(-np.pi/2).on(q_0)\n",
    "#\n",
    "#    #implements RZ\n",
    "#    yield cirq.rz(2*a).on(q_0)\n",
    "#    yield cirq.rz(2*a).on(q_1)\n",
    "    \n"
   ]
  },
  {
   "cell_type": "code",
   "execution_count": 26,
   "metadata": {},
   "outputs": [],
   "source": [
    "def ansatz_circuit(q_0, q_1, a, b):\n",
    "    # implements Z1 X2\n",
    "    #yield cirq.ry(np.pi/2).on(q_1)\n",
    "    yield cirq.H(q_1)\n",
    "    yield cirq.ZZPowGate(exponent=2/np.pi * b, global_shift=-0.5).on(q_0, q_1)\n",
    "    #yield cirq.CNOT(q_0, q_1)\n",
    "    #yield cirq.rz(2*b).on(q_1)\n",
    "    #yield cirq.CNOT(q_0, q_1)\n",
    "    yield cirq.H(q_1)\n",
    "    #yield cirq.ry(-np.pi/2).on(q_1)\n",
    "\n",
    "\n",
    "    # implements X1 Z2\n",
    "    #yield cirq.ry(np.pi/2).on(q_0)\n",
    "    yield cirq.H(q_0)\n",
    "    yield cirq.ZZPowGate(exponent=2/np.pi * b, global_shift=-0.5).on(q_0, q_1)\n",
    "    #yield cirq.CNOT(q_0, q_1)\n",
    "    #yield cirq.rz(2*b).on(q_1)\n",
    "    #yield cirq.CNOT(q_0, q_1)\n",
    "    yield cirq.H(q_0)\n",
    "    #yield cirq.ry(-np.pi/2).on(q_0)\n",
    "\n",
    "    # implements RZs\n",
    "    yield cirq.ZPowGate(exponent=2/np.pi*a, global_shift=-0.5).on(q_0)\n",
    "    yield cirq.ZPowGate(exponent=2/np.pi*a, global_shift=-0.5).on(q_1)"
   ]
  },
  {
   "cell_type": "code",
   "execution_count": null,
   "metadata": {},
   "outputs": [],
   "source": []
  },
  {
   "cell_type": "code",
   "execution_count": 35,
   "metadata": {},
   "outputs": [
    {
     "name": "stdout",
     "output_type": "stream",
     "text": [
      "-1.994\n"
     ]
    },
    {
     "data": {
      "image/png": "[encoded data removed]",
      "text/plain": [
       "<Figure size 432x288 with 1 Axes>"
      ]
     },
     "metadata": {
      "needs_background": "light"
     },
     "output_type": "display_data"
    }
   ],
   "source": [
    "a_list = list(np.linspace(0, np.pi, 20))\n",
    "b_list = list(np.linspace(0, np.pi, 20))\n",
    "\n",
    "q_0 = cirq.NamedQubit('q_0')\n",
    "q_1 = cirq.NamedQubit('q_1')\n",
    "\n",
    "sim = cirq.Simulator()\n",
    "\n",
    "H_expec_list = np.zeros((20,20))\n",
    "results_zx = []\n",
    "results_xz = []\n",
    "\n",
    "for a in a_list:\n",
    "    for b in b_list:\n",
    "        ansatz = cirq.Circuit(ansatz_circuit(q_0, q_1, a, b))\n",
    "        # measure Z1 X2 ie. qubit 0 in Z, qubit 1 in X basis\n",
    "        zx_cirq = cirq.Circuit(ansatz, cirq.H(q_1), cirq.measure(q_0, q_1, key='zx'))\n",
    "        \n",
    "        result_zx = sim.run(zx_cirq, repetitions=1000)\n",
    "        results_zx = 4*(result_zx.measurements['zx'][:,0]-0.5) * (result_zx.measurements['zx'][:,1]-0.5)\n",
    "        #for i in range(1000):\n",
    "        #    hey = result_zx.measurements['zx'][i][0] * result_zx.measurements['zx'][i][1]\n",
    "        #    results_zx.append(hey)\n",
    "        \n",
    "        zx_expec = np.mean(results_zx)\n",
    "\n",
    "        xz_cirq = cirq.Circuit(ansatz, cirq.H(q_0), cirq.measure(q_0, q_1, key='xz'))\n",
    "        \n",
    "        result_xz = sim.run(xz_cirq, repetitions=1000)\n",
    "        results_xz = 4*(result_xz.measurements['xz'][:,0]-0.5) * (result_xz.measurements['xz'][:,1]-0.5)\n",
    "        \n",
    "        xz_expec = np.mean(results_xz)\n",
    "        \n",
    "        H_expec = -xz_expec -zx_expec\n",
    "        H_expec_list[a_list.index(a), b_list.index(b)] = H_expec\n",
    "#print(result_zx.measurements['zx'][0][0])\n",
    "\n",
    "#min(H_expec_list)      \n",
    "plt.imshow(H_expec_list)       \n",
    "print(np.min(H_expec_list))"
   ]
  },
  {
   "cell_type": "code",
   "execution_count": 65,
   "metadata": {},
   "outputs": [
    {
     "data": {
      "text/plain": [
       "-1.994"
      ]
     },
     "execution_count": 65,
     "metadata": {},
     "output_type": "execute_result"
    }
   ],
   "source": [
    "np.argmin(H_expec_list)\n",
    "H_expec_list[14][14]"
   ]
  },
  {
   "cell_type": "code",
   "execution_count": 67,
   "metadata": {},
   "outputs": [
    {
     "data": {
      "text/plain": [
       "(2.3148577447503738, 2.3148577447503738)"
      ]
     },
     "execution_count": 67,
     "metadata": {},
     "output_type": "execute_result"
    }
   ],
   "source": [
    "H_expec_list[14][14]\n",
    "a_min = a_list[14]\n",
    "b_min = b_list[14]\n",
    "a_min,b_min"
   ]
  },
  {
   "cell_type": "code",
   "execution_count": 71,
   "metadata": {},
   "outputs": [
    {
     "data": {
      "text/plain": [
       "'(-0.04+0.46j)|00⟩ + 0.5j|01⟩ + 0.5j|10⟩ + (-0.04-0.54j)|11⟩'"
      ]
     },
     "execution_count": 71,
     "metadata": {},
     "output_type": "execute_result"
    }
   ],
   "source": [
    "optimal_vqe = cirq.Circuit(ansatz_circuit(q_0, q_1, a_min, b_min))\n",
    "result = sim.simulate(optimal_vqe).dirac_notation()\n",
    "result"
   ]
  },
  {
   "cell_type": "code",
   "execution_count": 78,
   "metadata": {},
   "outputs": [
    {
     "name": "stdout",
     "output_type": "stream",
     "text": [
      "-1.912\n"
     ]
    },
    {
     "data": {
      "text/plain": [
       "<matplotlib.image.AxesImage at 0x7fbebc0d19d0>"
      ]
     },
     "execution_count": 78,
     "metadata": {},
     "output_type": "execute_result"
    },
    {
     "data": {
      "image/png": "[encoded data removed]",
      "text/plain": [
       "<Figure size 432x288 with 1 Axes>"
      ]
     },
     "metadata": {
      "needs_background": "light"
     },
     "output_type": "display_data"
    }
   ],
   "source": [
    "a_list = list(np.linspace(0, np.pi, 20))\n",
    "b_list = list(np.linspace(0, np.pi, 20))\n",
    "\n",
    "q_0 = cirq.NamedQubit('q_0')\n",
    "q_1 = cirq.NamedQubit('q_1')\n",
    "\n",
    "sim = cirq.Simulator()\n",
    "\n",
    "H_expec_list = np.zeros((20,20))\n",
    "results_zx = []\n",
    "results_xz = []\n",
    "\n",
    "for a in a_list:\n",
    "    for b in b_list:\n",
    "        ansatz = cirq.Circuit(ansatz_circuit(q_0, q_1, a, b))\n",
    "        # measure Z1 X2 ie. qubit 0 in Z, qubit 1 in X basis\n",
    "        zx_cirq = cirq.Circuit(ansatz, cirq.H(q_1), cirq.measure(q_0, q_1, key='zx'))\n",
    "        \n",
    "        result_zx = cirq.sample(zx_cirq, noise=noise, repetitions=1000)\n",
    "        results_zx = 4*(result_zx.measurements['zx'][:,0]-0.5) * (result_zx.measurements['zx'][:,1]-0.5)\n",
    "        #for i in range(1000):\n",
    "        #    hey = result_zx.measurements['zx'][i][0] * result_zx.measurements['zx'][i][1]\n",
    "        #    results_zx.append(hey)\n",
    "        \n",
    "        zx_expec = np.mean(results_zx)\n",
    "\n",
    "        xz_cirq = cirq.Circuit(ansatz, cirq.H(q_0), cirq.measure(q_0, q_1, key='xz'))\n",
    "        \n",
    "        result_xz = cirq.sample(xz_cirq, noise=noise, repetitions=1000)\n",
    "        results_xz = 4*(result_xz.measurements['xz'][:,0]-0.5) * (result_xz.measurements['xz'][:,1]-0.5)\n",
    "        \n",
    "        xz_expec = np.mean(results_xz)\n",
    "        \n",
    "        H_expec = -xz_expec -zx_expec\n",
    "        H_expec_list[a_list.index(a), b_list.index(b)] = H_expec\n",
    "#print(result_zx.measurements['zx'][0][0])\n",
    "\n",
    "print(np.min(H_expec_list))     \n",
    "plt.imshow(H_expec_list)       \n"
   ]
  },
  {
   "cell_type": "code",
   "execution_count": null,
   "metadata": {},
   "outputs": [],
   "source": []
  }
 ],
 "metadata": {
  "interpreter": {
   "hash": "9ec333770e2c2f58d48508fe28291198296008e308b422cff7f039fd80a9e2d3"
  },
  "kernelspec": {
   "display_name": "Python 3.8.12 64-bit ('dqn_env': conda)",
   "language": "python",
   "name": "python3"
  },
  "language_info": {
   "codemirror_mode": {
    "name": "ipython",
    "version": 3
   },
   "file_extension": ".py",
   "mimetype": "text/x-python",
   "name": "python",
   "nbconvert_exporter": "python",
   "pygments_lexer": "ipython3",
   "version": "3.8.12"
  },
  "orig_nbformat": 4
 },
 "nbformat": 4,
 "nbformat_minor": 2
}
